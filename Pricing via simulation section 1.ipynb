{
 "cells": [
  {
   "cell_type": "markdown",
   "metadata": {},
   "source": [
    "<h1 style=\"color:green;\">Design patterns for option pricing via simulation<h1>\n",
    "    <blockquote style=\"font-family:Calibri; font-size:16px;\">This is a personal project of mine, investigating how to price different financial options through simulation and, where possible comparing these values to analytic prices</blockquote>"
   ]
  },
  {
   "cell_type": "markdown",
   "metadata": {},
   "source": [
    "<h2 style=\"color:green;\">Part 0: Setup-<h2>\n",
    "<blockquote style=\"font-family:Calibri; font-size:16px;\">Import libraries, establish and justify RNG choice, numerous random draws from a Gaussian distribution will form the cornerstone of our method, we find random.gauss to produce results more quickly </blockquote>"
   ]
  },
  {
   "cell_type": "code",
   "execution_count": 4,
   "metadata": {
    "scrolled": true
   },
   "outputs": [
    {
     "name": "stdout",
     "output_type": "stream",
     "text": [
      "\n",
      "Running time random = 667 ms\n",
      "Running time np.normal = 2222 ms\n"
     ]
    }
   ],
   "source": [
    "import time \n",
    "import random \n",
    "import numpy\n",
    "import math\n",
    "import scipy.integrate as integrate #integration kit\n",
    "from scipy.stats import norm\n",
    "import statistics\n",
    "\n",
    "tic=time.perf_counter()\n",
    "for i in range(10**6):\n",
    "    random.gauss(0,1)\n",
    "toc=time.perf_counter()\n",
    "\n",
    "tic2=time.perf_counter()\n",
    "for i in range(10**6):\n",
    "    numpy.random.normal()\n",
    "toc2=time.perf_counter()\n",
    "print(\"\\nRunning time random = {} ms\".format(int((toc-tic)*10**3))+\n",
    "      \"\\nRunning time np.normal = {} ms\".format(int((toc2-tic2)*10**3)))\n",
    "#we use random.gauss due to it's ability to generate normal draws more quickly!\n",
    "\n"
   ]
  },
  {
   "cell_type": "code",
   "execution_count": 2,
   "metadata": {},
   "outputs": [],
   "source": [
    "class simulationStart:\n",
    "    def __init__(self,spot,sims,vol,steps,t,mu,strike):\n",
    "        self.S0=spot\n",
    "        self.sims=sims\n",
    "        self.vol=vol\n",
    "        self.steps=steps\n",
    "        self.strike=strike\n",
    "        self.t=t\n",
    "        \n",
    "        self.mu=mu\n",
    "\n",
    "    def lowMemorySimulations(self): #good for calculating EV without using memory (arr)- no descriptive stats obtainable\n",
    "        totsum=0\n",
    "        sqrtt=math.sqrt(self.t)\n",
    "        for j in range(self.sims):\n",
    "            Spot=self.S0\n",
    "            for i in range(self.steps):\n",
    "                N01=random.gauss(0,1)\n",
    "                Spot=Spot*(1+(self.mu*self.t+self.vol*sqrtt*N01))  #in this discrete approximate model we can go negative!!\n",
    "            totsum+=Spot #memoryless- does not require storing an array\n",
    "\n",
    "        return totsum/self.sims \n",
    "    def simulationsArray(self): #keep array\n",
    "        arr=[]\n",
    "        sqrtt=math.sqrt(self.t)\n",
    "        for j in range(self.sims):\n",
    "            Spot=self.S0\n",
    "            for i in range(self.steps):\n",
    "                N01=random.gauss(0,1)\n",
    "                Spot=Spot*(1+(self.mu*self.t+self.vol*sqrtt*N01))  #in this discrete approximate model we can go negative!!\n",
    "            arr.append(Spot) #keep an array\n",
    "        return arr\n",
    "\n",
    "\n",
    "\n",
    "            \n",
    "\n",
    "\n",
    "\n"
   ]
  },
  {
   "cell_type": "markdown",
   "metadata": {},
   "source": [
    "<h2 style=\"color:green;\">Section 1: Pricing using log normal assumptions<h2>\n",
    "<blockquote style=\"font-family:Calibri; font-size:16px;\">Build progressvely more complex options, compare analytic price to simulations </blockquote>"
   ]
  },
  {
   "cell_type": "code",
   "execution_count": 3,
   "metadata": {},
   "outputs": [
    {
     "name": "stdout",
     "output_type": "stream",
     "text": [
      "\n",
      " Mean =105.10272582673365\n",
      "\n",
      " Analytic integration Expected value =105.12710963760242\n",
      "\n",
      " Numerical integration EV & error bounds =(105.12710963760242, 1.0679979662274464e-07)\n"
     ]
    }
   ],
   "source": [
    "sm=simulationStart(spot=100,sims=10**3,vol=0.1,steps=365,mu=0.05,t=1/365,strike=105) #Stockmotion=sm\n",
    "\n",
    "\n",
    "mean=sm.lowMemorySimulations()\n",
    "\n",
    "#dS=mu*S*dt+sigma*dWt\n",
    "\n",
    "\n",
    "#Analytical mean = S*exp(mu*t)\n",
    "#Derived from integral of S0*e^(mu*t-0.5*sigma^2+sigma*x)*e^-(x^2/2)\n",
    "print(\"\\n Mean =\" +format(mean))\n",
    "print(\"\\n Analytic integration Expected value =\" + format(sm.S0*math.exp(sm.mu*sm.t*sm.steps)))\n",
    "\n",
    "#Numerical integration method\n",
    "result = integrate.quad(lambda x: (1/math.sqrt(2*math.pi))*sm.S0*math.exp(sm.mu*sm.t*sm.steps-0.5*sm.vol**2+sm.vol*x)*math.exp(-(x**2)/2), -10, 10) #+/-10 s.d.s sufficiently converged for double floating point precision\n",
    "print(\"\\n Numerical integration EV & error bounds =\" + format(result))"
   ]
  },
  {
   "cell_type": "markdown",
   "metadata": {},
   "source": [
    "<blockquote style=\"font-family:Calibri; font-size:16px;\"> Here we stochastically simulate 10,000 runs of a stock with spot 100 and annualised drift 0.05. Via analytical integration, numerical integration and Monte Carlo simulation we find the final prices agree. This type of stochastic simulation will be key to our first section (later we will investigate other volatility simulations (e.g. time and price dependent) </blockquote>"
   ]
  },
  {
   "cell_type": "markdown",
   "metadata": {},
   "source": [
    "<blockquote style=\"font-family:Calibri; font-size:16px;\"> We now begin Section one in earnest, starting with attempting to price a forward contact, progressively moving to more complex derivatives. Note: We will not always have tidy integration to help us!\n",
    "\n",
    "<h3 style=\"color:green;\">Fwd contract<h3>\n",
    "</blockquote>"
   ]
  },
  {
   "cell_type": "code",
   "execution_count": 23,
   "metadata": {},
   "outputs": [
    {
     "name": "stdout",
     "output_type": "stream",
     "text": [
      "\n",
      " Sample Mean =4.681959382095172\n",
      "\n",
      " Expected Value =5.000000000000014\n"
     ]
    }
   ],
   "source": [
    "#A forward contract is the right and the obligation to buy a stock at time t for price K.\n",
    "#The payoff is S-K.\n",
    "#Using risk neutral pricing E(C_T/Z_T)=C_0/Z_0 \n",
    "#Our only unknown in this equaton is C_0.\n",
    "#C_T=S-K\n",
    "#Z_0=e^-rT\n",
    "#Z_T=1\n",
    "#C_0=(e^-rT)*E[(S-K)]\n",
    "#S_0\n",
    "sm2=simulationStart(spot=100,sims=10**3,vol=0.1,steps=365,mu=0.05,t=1/365,strike=95) #Stockmotion=sm\n",
    "\n",
    "arr=sm2.simulationsArray()\n",
    "\n",
    "# for j in range(sims):\n",
    "#     Spot=S0\n",
    "#     for i in range(Steps):\n",
    "#         N01=random.gauss(0,1)\n",
    "#         Spot=Spot*(1+(mu*t+vol*sqrtt*N01))  #in this discrete approximate model we can go negative!!\n",
    "#     arr.append(Spot-strike) \n",
    "\n",
    "\n",
    "#Find e^-rtE(S-K)- K is const/ not a RV, K=strike=95\n",
    "rt=sm2.mu*sm2.t*sm2.steps #mu=rt in risk neutral world\n",
    "\n",
    "print(\"\\n Sample Mean =\" +format(math.exp(-rt)*statistics.mean(arr)-sm2.strike))\n",
    "print(\"\\n Expected Value =\" +format(math.exp(-rt)*sm.S0*math.exp(sm2.mu*sm2.t*sm2.steps)-sm2.strike))\n",
    "\n",
    "\n",
    "\n",
    "\n",
    "\n",
    "\n"
   ]
  },
  {
   "cell_type": "markdown",
   "metadata": {},
   "source": [
    "<blockquote style=\"font-family:Calibri; font-size:16px;\">The simulation method for forward contract is identical, simulate the stock as necessary- then plug each value into the payoff function (S-K)</blockquote>"
   ]
  },
  {
   "cell_type": "markdown",
   "metadata": {},
   "source": [
    "<h3 style=\"color:green;\">Call option<h3>\n",
    "<blockquote style=\"font-family:Calibri; font-size:16px;\">The vanilla call option, with pay off (S-K) can be solved analytically in at least two ways- by solving the Black-Scholes eqn and via risk-neutral pricing, use riskless bond for numeraire <br> \n",
    "    $dS=\\mu Sdt+\\sigma SdW_{t}$ <br>\n",
    "    $dB=rBdt$ <br>\n",
    "    \n",
    "Risk-neutral pricing requires $d(S/B)$ be a Martingale. Using Ito's lemma we get: <br>\n",
    "    $d(S/B)=(\\mu-r)\\frac S B dt+randomness$, Martingale $ \\iff \\mu=r$ <br>\n",
    "Thus using RN pricing:\n",
    "    $\\frac {C_0} {B_0}=\\mathbb E[\\frac {C_T}{ B_T}]$ <br>\n",
    "Equivalently $C_0=e^{-rt}E[{C_T} ]$\n",
    "We may now proceed with both MC and probabilistic method\n",
    " </blockquote>"
   ]
  },
  {
   "cell_type": "code",
   "execution_count": 62,
   "metadata": {},
   "outputs": [
    {
     "name": "stdout",
     "output_type": "stream",
     "text": [
      "\n",
      " Sample Mean =10.322783140874224\n",
      "\n",
      " Expected Value10.405284289598569\n"
     ]
    }
   ],
   "source": [
    "sm3=simulationStart(spot=100,sims=10**3,vol=0.1,steps=365,mu=0.05,t=1/365,strike=95) #Stockmotion=sm\n",
    "arr=sm3.simulationsArray()\n",
    "\n",
    "# for j in range(sims):\n",
    "#     Spot=S0\n",
    "#     for i in range(Steps):\n",
    "#         N01=random.gauss(0,1)\n",
    "#         Spot=Spot*(1+(mu*t+vol*sqrtt*N01))  #in this discrete approximate model we can go negative!!\n",
    "#     arr.append(Spot-strike) \n",
    "\n",
    "\n",
    "#Find e^-rtE(S-K)- K is const/ not a RV, K=strike=95\n",
    "rt=sm3.mu*sm3.t*sm3.steps #mu=rt in risk neutral world\n",
    "for i in range(len(arr)):\n",
    "    arr[i]=max(arr[i]-sm3.strike,0)\n",
    "    \n",
    "\n",
    "d1=(math.log(sm3.S0/sm3.strike)+(sm3.mu+0.5*sm3.vol**2)*sm3.t*sm3.steps)/(sm3.vol*math.sqrt(sm3.t*sm3.steps))\n",
    "d2=(math.log(sm3.S0/sm3.strike)+(sm3.mu-0.5*sm3.vol**2)*sm3.t*sm3.steps)/(sm3.vol*math.sqrt(sm3.t*sm3.steps))\n",
    "\n",
    "print(\"\\n Sample Mean =\" +format(math.exp(-rt)*(statistics.mean(arr))))\n",
    "print(\"\\n Expected Value\" + format(sm3.S0*norm.cdf(d1)-sm3.strike*math.exp(-rt)*norm.cdf(d2)))\n",
    "\n",
    "\n"
   ]
  },
  {
   "cell_type": "markdown",
   "metadata": {},
   "source": [
    "<blockquote style=\"font-family:Calibri; font-size:16px;\"> Here we stochastically simulate 10,000 runs of a stock with spot 100 and annualised drift 0.05. Via analytical integration, numerical integration and Monte Carlo simulation we find the final prices agree. This type of stochastic simulation will be key to our first section (later we will investigate other volatility simulations (e.g. time and price dependent) </blockquote>\n"
   ]
  },
  {
   "cell_type": "markdown",
   "metadata": {},
   "source": [
    "<blockquote style=\"font-family:Calibri; font-size:16px;\"> Barrier option: Barrier options can knock in or knock out when they reach a certain value- they can be analytically priced via the reflection principle and Girsanov's theorem. We price a down and in option. The other barrier prices are similarly derived. </blockquote>"
   ]
  },
  {
   "cell_type": "markdown",
   "metadata": {},
   "source": [
    "For a down and in barrier struck at y with barrier x, an option has payout iff $\\mathbb P (W_{t}>y, m_{t}<x)$. We need to compute this probability. Via the reflection principle we have: $\\mathbb P (W_{t}>y, m_{t}<x)=\\mathbb P (W_{t}<2y-x)$, the analytic price is: $S_{0}N(d_{1})-Ke^{-rT}-(\\frac{H}{S_{0}})^{1+2r\\sigma^-2}S_{0}N(h_{1})+(\\frac{H}{S_{0}})^{-1+2r\\sigma^-2}Ke^{-rT}$\n"
   ]
  },
  {
   "cell_type": "code",
   "execution_count": 63,
   "metadata": {},
   "outputs": [
    {
     "name": "stdout",
     "output_type": "stream",
     "text": [
      "\n",
      " Simulation approach\n",
      "[0, 11.216843043093434, 0, 0, 0, 0, 2.2879218999809012, 1.6450490520897603, 3.9622227504635674, 0, 0, 0, 0, 13.799102795959172, 0, 17.687782694255645, 14.697050461182698, 6.992203671757977, 0, 0, 7.0865579014767945, 1.691730580000538, 0, 0, 0, 0, 0.7231361247645509, 0, 0, 0, 0, 0, 0, 0, 0, 0, 0, 0, 0, 0, 0, 0, 0, 0, 0, 0, 0, 2.974063567824217, 0, 9.518948472621986, 0, 0, 0, 0, 0, 1.4482381954218795, 0, 9.533655752214287, 0, 0, 0, 0, 0, 0, 0, 9.664805207973913, 0, 0, 0, 0, 15.901867218800788, 0, 0, 11.045267417356413, 0, 12.472540689073085, 0, 2.9896488773417076, 0, 2.035321152399405, 0, 0, 0, 0, 26.51607225804942, 0, 4.710819185304075, 0, 0, 21.0901501370506, 0, 0, 0, 7.242000306253587, 0, 1.2062583808806409, 0, 20.84359023109758, 0, 0, 0, 0, 2.0400061275497023, 11.805820366594133, 0, 2.069167028403868, 0, 0, 0, 0, 0, 0, 10.27755245328403, 10.114293818584386, 1.5465113184162504, 0, 0.3203701681551081, 2.302919212102694, 0, 0.8509074482751515, 0, 0, 0, 0, 0, 0, 0, 4.911557097031491, 0, 7.872547533477288, 0, 0, 0, 0, 0, 10.365301300623443, 0, 6.083276049000915, 0, 0, 0, 6.459283953678494, 4.7762292397629125, 0, 0, 1.7549150124203123, 0, 0, 0, 0, 0, 9.649618337192578, 6.335405327826848, 0, 0, 1.2066473107368267, 1.3618169424672146, 0, 5.822062639864754, 0, 0, 0, 4.484384586141445, 0, 0, 0, 0, 3.6967822933240058, 0, 0, 10.92593688529172, 0, 0, 0, 5.680637614083182, 0, 14.55806234927502, 0, 0, 0, 0, 0, 0, 0, 0, 0, 0, 0, 0, 0, 0, 0, 0, 9.690496186191666, 0, 0, 0, 5.572030268934327, 0, 0, 0.9534866853170882, 0.022312967939996042, 0, 4.273220873338062, 0, 0, 10.288937724322494, 0, 0, 0, 0, 0, 0, 0, 0, 5.322114420081846, 0, 0, 0, 25.889191037140108, 0, 0, 0, 13.66405893059013, 0, 0, 0, 0, 0, 6.083643500979363, 0, 0, 22.539214172054614, 0, 0, 0, 0, 0, 2.777738903118447, 0, 12.528370158813203, 0, 0, 0, 0, 5.429371447450151, 0, 0, 0, 0.05727021240080887, 0, 0, 0, 0, 2.1572099877885336, 0, 0, 0, 0.5584663521381259, 0, 0, 0, 0, 0, 0, 0, 9.035546298084512, 0.36112879183920654, 0, 0, 0, 0, 0, 0, 0, 0, 0, 0, 0, 0, 0, 3.6010324495990744, 0, 4.454721136391967, 0, 6.472738693011735, 0, 15.035627257612617, 0.16333249107782422, 0, 0, 0, 0, 0, 16.171529885795962, 0, 9.877673745506627, 0, 0, 0, 0, 0.12647527138626913, 0, 0, 0, 0, 0, 0, 0, 0, 7.082370119621231, 3.94743289958852, 9.686735732883719, 0.6042586862000263, 0, 0, 0, 13.124262202594451, 4.012759983626779, 0, 0, 0, 6.506824488560341, 0, 0, 4.63422018931935, 0, 14.374626857760887, 0, 18.326251541410386, 0, 0, 0, 0, 30.961627822515467, 3.8570847795488845, 0, 4.687277892670821, 0, 0, 0, 0, 0, 0, 0, 0, 0, 0, 0, 0, 22.54464487534264, 0, 0.8835287759823558, 6.783433409403358, 0, 0, 0, 0, 12.160067652714005, 0, 0, 2.9550056028900116, 0, 0, 0, 9.884967013393236, 0, 0, 0, 0, 1.4878164362931727, 0, 0, 0, 0, 2.9542694076445173, 14.928939344187938, 0, 7.711361769467601, 0, 8.600973293268254, 0.43506486665701516, 22.433063650009103, 0, 0, 0, 0, 9.113503568439114, 0, 0, 0, 0, 0, 0, 0, 0, 0, 0, 0, 0, 5.194120065194284, 7.135199180059672, 0, 0, 0, 0, 3.8491543053060155, 0, 0, 12.99979681750142, 0, 0, 0, 0, 0, 4.876908910955564, 35.28611175257899, 0, 0, 9.128498620104466, 9.324885186089375, 0, 0, 0, 0, 0, 0, 0, 0, 0, 0, 2.307877417926534, 4.804034410875815, 6.790560024611381, 0, 0, 0, 7.74846018245681, 0, 3.5249282661240358, 0, 3.3149180528834137, 0, 1.3587175155247309, 15.755339967196932, 0, 3.8688839848091305, 0, 0, 15.07835634957344, 18.322469140688767, 7.086312044373798, 0, 0, 0, 0, 0, 1.5319376943691339, 8.03760651048438, 6.720774017609443, 3.451721673082531, 0, 0, 4.605629057884201, 0, 2.6923417495352595, 0, 0.012503729379460538, 0, 0, 0, 0, 9.172018625208366, 0, 0, 0, 0, 0, 0, 4.6528511874761875, 0.4619453106112559, 0, 16.46573942632591, 0, 0, 4.953457963454213, 6.292535985182212, 0, 2.299321555531037, 0, 7.245762707168524, 5.695507207877483, 0, 0, 0, 0, 0, 0, 0, 0, 0, 0, 0, 9.746744263450097, 3.86600001060296, 0, 0, 0, 0, 0, 0, 0, 6.655104273879488, 0, 0, 6.818477128939961, 0, 1.731684300049821, 0, 0, 0, 0, 0, 0, 0, 0, 0, 0.7062531564755687, 2.404879513527277, 0, 0, 0, 9.453923576144774, 0, 0, 0, 0.4727634421950171, 0, 0, 0, 0, 0, 0, 0, 0, 9.003515120106286, 3.2080411808687757, 0, 0, 0, 0, 0, 0, 3.256030317871023, 4.8325529961865925, 0, 0, 0, 0.0047253702151976995, 0, 0.047880663544745516, 0, 0, 0, 0, 0, 0, 10.743398924984419, 0, 0, 0, 0, 9.150997662410134, 0, 0, 0, 14.700987758162611, 0, 31.009281406856175, 0, 7.505051057286991, 0, 4.976520671698026, 3.1789862475407347, 3.2879601153910727, 0, 0, 0, 7.08407465796553, 0, 0, 0, 0, 14.162847842512946, 0, 17.542078308929263, 0, 0, 6.874694449883933, 0, 6.203000813956095, 0.18790765624716244, 0, 0, 0.18553129569930604, 0, 6.70852460899637, 11.594671502065339, 0, 1.7817958149939983, 0, 0, 0, 14.998795652671205, 0, 19.76300827920221, 7.440989594924943, 0, 0, 0, 0, 6.344364924115212, 8.010820953205481, 0, 0, 0, 0, 0, 0, 0, 0, 5.993958439833904, 0, 0, 5.081822951365012, 0, 0, 7.840676204376393, 0, 6.905019953390749, 8.877915721286115, 0, 0, 0, 3.5405641028191326, 0, 0, 0, 2.7298353430669096, 0, 0.6932135755519511, 0, 0, 0, 0, 0, 6.591552903882629, 10.54560978905269, 15.15459269909131, 0, 0, 0, 19.39896591612481, 17.882416944496853, 0, 0, 0, 0, 16.523646082055976, 2.744177066384026, 0, 4.393552017248851, 0, 0, 0, 0, 0, 0, 0, 0, 13.18563302224078, 0, 24.367112955729695, 0, 9.563215156283505, 0, 0, 0, 0, 1.3461023547370274, 0, 0, 0, 0, 0, 0, 0, 0, 0, 0, 0, 10.586654193870189, 5.651678024457993, 0, 0, 0, 0, 0, 0, 0, 0, 0, 0, 0, 0, 0.5608325997196175, 0, 1.2315223183041155, 0, 0, 0, 0, 0, 0, 0, 0, 0, 5.853913523630453, 0, 0, 0, 1.5054667527087275, 0, 16.92885869968491, 0, 0.5178430966045369, 0, 0, 11.733066841616434, 11.946397462399005, 0, 0, 0, 0, 0, 2.8262371762212553, 0, 0, 1.9158858753232408, 0, 0, 0, 0, 16.748101224124, 2.7399237769917875, 0, 0, 0, 9.729515077760638, 16.661746068288238, 11.335665090244987, 0, 0, 0, 0, 0, 0, 0, 0, 0, 0, 0, 15.740492702999589, 0, 0, 0, 0, 0, 0, 0, 0, 0, 0, 0, 12.219769847888486, 0, 0, 0, 0, 4.959749029267186, 0, 0, 0.5897008080885513, 0, 0, 0, 0, 0, 17.00715827537286, 0, 1.643528855678639, 0, 0, 0, 1.5165114228994412, 0, 0, 0, 0, 0, 0, 12.234331078977078, 0, 11.441150178549805, 0, 0, 0, 0, 0, 0, 0, 0, 0, 0, 2.190907017043287, 0, 0, 0, 2.5528341373452292, 0, 0, 0, 0, 0, 0, 0, 2.8007797608774325, 0, 0, 0, 0, 11.997809892745678, 6.654152608584766, 0, 0, 0, 0, 5.176097186795317, 5.204546647071808, 16.506305772443156, 0, 0.3470258561522286, 7.316907207435349, 4.750799694472178, 0, 0, 0, 0, 0, 0, 0, 0, 13.435053664869443, 0, 0, 0, 0, 0, 0, 0, 4.27720693437341, 0, 0, 0, 0, 0, 0.606083413727518, 0, 0, 0, 0, 12.530067780532377, 0, 0, 0, 0, 3.976506292882206, 0, 0, 0, 5.48834168236813, 13.246793462489876, 24.01325400470313, 0, 0, 0, 0, 4.548145437083875, 0, 0, 7.065450394448902, 0, 0, 0, 0, 17.429938979222555, 0, 6.729394035277494, 0, 0.29161586610008783, 0, 0, 9.438475667631806, 0.8877719438856957, 0, 0, 2.72002240082071, 0.6209287655691895, 0, 0, 0, 12.768072092321972, 4.776050028623118, 0, 0, 0, 0, 0, 0, 14.231909854882446, 0, 0, 0, 5.467194417090056, 0, 8.107274326059994, 5.6026646360824515, 8.188317408944599, 0, 0, 0, 0, 0, 0, 0, 0, 0, 0, 0, 0, 0, 10.568326754925167, 0, 0, 9.893220640668275, 0, 0.04118293446643406, 0, 0, 0, 0, 0, 11.470047115409855, 0, 11.771965487397068, 0, 4.187241991188031, 24.211822649142263, 0, 0, 0, 0, 1.6269800149085114, 0, 0, 0, 0, 0, 0, 0, 0, 6.525677205490396, 0, 0, 0, 0, 0, 0, 7.496458034777177, 0, 0, 6.555827351420163, 0, 0, 3.8099796208559837, 2.7975905203162483, 1.7139436040886977, 0, 8.619190688537984, 1.0119837882602098]\n",
      "\n",
      " Sample Mean =2.0139121616020743\n",
      "\n",
      "Running time random = 3698 ms\n"
     ]
    }
   ],
   "source": [
    "print(\"\\n Simulation approach\")\n",
    "sm4=simulationStart(spot=100,sims=10**3,vol=0.1,steps=365,mu=0.05,t=1/365,strike=95) #Stockmotion=sm\n",
    "spot=100\n",
    "sims=10**3\n",
    "vol=0.1\n",
    "steps=3650 #we discretise further due to barrier condition!!\n",
    "mu=0.05\n",
    "t=1/3650\n",
    "period=t*steps\n",
    "strike=95\n",
    "barrier=95\n",
    "\n",
    "#In this case we need to estimate whether we hit the barrier at any point, one issue with this is with discrete time is-\n",
    "# we may overlook hitting the barrier at high resolutions (in our case, 1 day)\n",
    "#This is an area where time complexity dimensionality begins to creep in.\n",
    " \n",
    "tic=time.perf_counter()    \n",
    "arr=[]\n",
    "sqrtt=math.sqrt(t)\n",
    "for j in range(sims):\n",
    "    spot=100\n",
    "    flag=0\n",
    "    for i in range(steps):\n",
    "        N01=random.gauss(0,1)\n",
    "        spot=spot*(1+(mu*t+vol*sqrtt*N01))  #in this discrete approximate model we can go negative!!\n",
    "        if spot<barrier:\n",
    "            flag=1\n",
    "    if flag==0 or spot<strike: \n",
    "        spot=0\n",
    "    else:\n",
    "        spot=spot-strike\n",
    "    arr.append(spot) #keep an array\n",
    "print(arr)\n",
    "\n",
    "print(\"\\n Sample Mean =\" +format(math.exp(-mu*period)*(statistics.mean(arr))))\n",
    "\n",
    "toc=time.perf_counter()\n",
    "print(\"\\nRunning time random = {} ms\".format(int((toc-tic)*10**3)))\n",
    "\n"
   ]
  },
  {
   "cell_type": "markdown",
   "metadata": {},
   "source": [
    "<blockquote style=\"font-family:Calibri; font-size:16px;\"> Here we have used the same parameters as in the call option, we observe how the value has fallen, as expected, time complexity is also higher here, we discretise steps into 0.1 days to increase the probability barrier hits are actually accounted for. </blockquote>"
   ]
  },
  {
   "cell_type": "code",
   "execution_count": 65,
   "metadata": {},
   "outputs": [
    {
     "name": "stdout",
     "output_type": "stream",
     "text": [
      "0.03706705612449422 -0.06293294387550587 1.0629329438755049 0.9629329438755048\n",
      "2.371714691479454\n"
     ]
    }
   ],
   "source": [
    "##Analytic price\n",
    "spot=100\n",
    "sims=10**3\n",
    "vol=0.1\n",
    "steps=3650 #we discretise further due to barrier condition!!\n",
    "mu=0.05\n",
    "t=1/3650\n",
    "period=t*steps\n",
    "strike=95\n",
    "barrier=95\n",
    "\n",
    "\n",
    "H=barrier\n",
    "d1=(math.log(spot/strike)+(mu+0.5*vol**2)*period)/(vol*math.sqrt(period))\n",
    "d2=(math.log(spot/strike)+(mu-0.5*vol**2)*period)/(vol*math.sqrt(period))\n",
    "h1=(math.log(H**2/(spot*strike))+(mu+0.5*vol**2)*period)/(vol*math.sqrt(period))\n",
    "h2=(math.log(H**2/(spot*strike))+(mu-0.5*vol**2)*period)/(vol*math.sqrt(period))\n",
    "\n",
    "price=spot*norm.cdf(d1)-strike*math.exp(-mu*period)*norm.cdf(d2)-(H/spot)**(-1+2*mu*vol**(-2))*spot*norm.cdf(h1)+ \\\n",
    "(H/spot)**(1+2*mu*vol**(-2))*strike*math.exp(-mu*period)*norm.cdf(h2)\n",
    "\n",
    "print(price)\n",
    "\n",
    "\n"
   ]
  },
  {
   "cell_type": "markdown",
   "metadata": {},
   "source": [
    "<blockquote style=\"font-family:Calibri; font-size:16px;\"> Our prices match. A good benchmark. Unfortunately many SDEs under different models, and for different exotic options do not easily solve. In the next section we investigate options that can only be priced via numerical methods.  </blockquote>"
   ]
  },
  {
   "cell_type": "code",
   "execution_count": null,
   "metadata": {},
   "outputs": [],
   "source": []
  }
 ],
 "metadata": {
  "kernelspec": {
   "display_name": "Python 3",
   "language": "python",
   "name": "python3"
  },
  "language_info": {
   "codemirror_mode": {
    "name": "ipython",
    "version": 3
   },
   "file_extension": ".py",
   "mimetype": "text/x-python",
   "name": "python",
   "nbconvert_exporter": "python",
   "pygments_lexer": "ipython3",
   "version": "3.7.7"
  },
  "varInspector": {
   "cols": {
    "lenName": 16,
    "lenType": 16,
    "lenVar": 40
   },
   "kernels_config": {
    "python": {
     "delete_cmd_postfix": "",
     "delete_cmd_prefix": "del ",
     "library": "var_list.py",
     "varRefreshCmd": "print(var_dic_list())"
    },
    "r": {
     "delete_cmd_postfix": ") ",
     "delete_cmd_prefix": "rm(",
     "library": "var_list.r",
     "varRefreshCmd": "cat(var_dic_list()) "
    }
   },
   "types_to_exclude": [
    "module",
    "function",
    "builtin_function_or_method",
    "instance",
    "_Feature"
   ],
   "window_display": false
  }
 },
 "nbformat": 4,
 "nbformat_minor": 4
}
