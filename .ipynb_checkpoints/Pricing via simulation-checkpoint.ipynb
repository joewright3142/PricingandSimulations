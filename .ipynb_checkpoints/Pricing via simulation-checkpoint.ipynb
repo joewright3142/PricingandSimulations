{
 "cells": [
  {
   "cell_type": "markdown",
   "metadata": {},
   "source": [
    "<h1 style=\"color:green;\">Design patterns for option pricing via simulation<h1>\n",
    "    <blockquote style=\"font-family:Calibri; font-size:16px;\">This is a personal project of mine, investigating how to price different financial options through simulation and, where possible comparing these values to analytic prices</blockquote>"
   ]
  },
  {
   "cell_type": "markdown",
   "metadata": {},
   "source": [
    "<h2 style=\"color:green;\">Part 0: Setup-<h2>\n",
    "<blockquote style=\"font-family:Calibri; font-size:16px;\">Import libraries, establish and justify RNG choice, numerous random draws from a Gaussian distribution will form the cornerstone of our method, we find random.gauss to produce results more quickly </blockquote>"
   ]
  },
  {
   "cell_type": "code",
   "execution_count": 1,
   "metadata": {
    "scrolled": true
   },
   "outputs": [
    {
     "name": "stdout",
     "output_type": "stream",
     "text": [
      "\n",
      "Running time random = 622 ms\n",
      "Running time np.normal = 2274 ms\n"
     ]
    }
   ],
   "source": [
    "import time \n",
    "import random \n",
    "import numpy\n",
    "import math\n",
    "import scipy.integrate as integrate #integration kit\n",
    "import statistics\n",
    "\n",
    "tic=time.perf_counter()\n",
    "for i in range(10**6):\n",
    "    random.gauss(0,1)\n",
    "toc=time.perf_counter()\n",
    "\n",
    "tic2=time.perf_counter()\n",
    "for i in range(10**6):\n",
    "    numpy.random.normal()\n",
    "toc2=time.perf_counter()\n",
    "print(\"\\nRunning time random = {} ms\".format(int((toc-tic)*10**3))+\n",
    "      \"\\nRunning time np.normal = {} ms\".format(int((toc2-tic2)*10**3)))\n",
    "#we use random.gauss due to it's ability to generate normal draws more quickly!\n",
    "\n"
   ]
  },
  {
   "cell_type": "code",
   "execution_count": 2,
   "metadata": {},
   "outputs": [],
   "source": [
    "class simulationStart:\n",
    "    def __init__(self,spot,sims,vol,steps,t,mu,strike):\n",
    "        self.S0=spot\n",
    "        self.sims=sims\n",
    "        self.vol=vol\n",
    "        self.steps=steps\n",
    "        self.strike=strike\n",
    "        self.t=t\n",
    "        \n",
    "        self.mu=mu\n",
    "\n",
    "    def lowMemorySimulations(self): #good for calculating EV without using memory (arr)- no descriptive stats obtainable\n",
    "        totsum=0\n",
    "        sqrtt=math.sqrt(self.t)\n",
    "        for j in range(self.sims):\n",
    "            Spot=self.S0\n",
    "            for i in range(self.steps):\n",
    "                N01=random.gauss(0,1)\n",
    "                Spot=Spot*(1+(self.mu*self.t+self.vol*sqrtt*N01))  #in this discrete approximate model we can go negative!!\n",
    "            totsum+=Spot #memoryless- does not require storing an array\n",
    "\n",
    "        return totsum/self.sims \n",
    "    def simulationsArray(self): #keep array\n",
    "        arr=[]\n",
    "        sqrtt=math.sqrt(self.t)\n",
    "        for j in range(self.sims):\n",
    "            Spot=self.S0\n",
    "            for i in range(self.steps):\n",
    "                N01=random.gauss(0,1)\n",
    "                Spot=Spot*(1+(self.mu*self.t+self.vol*sqrtt*N01))  #in this discrete approximate model we can go negative!!\n",
    "            arr.append(Spot) #keep an array\n",
    "        return arr\n",
    "\n",
    "\n",
    "\n",
    "            \n",
    "\n",
    "\n",
    "\n"
   ]
  },
  {
   "cell_type": "markdown",
   "metadata": {},
   "source": [
    "<h2 style=\"color:green;\">Part 1: Pricing using log normal assumptions<h2>\n",
    "<blockquote style=\"font-family:Calibri; font-size:16px;\">Import libraries, establish and justify RNG choice, numerous random draws from a Gaussian distribution will form the cornerstone of our method, we find random.gauss to produce results more quickly </blockquote>"
   ]
  },
  {
   "cell_type": "code",
   "execution_count": 3,
   "metadata": {},
   "outputs": [
    {
     "name": "stdout",
     "output_type": "stream",
     "text": [
      "\n",
      " Mean =105.10272582673365\n",
      "\n",
      " Analytic integration Expected value =105.12710963760242\n",
      "\n",
      " Numerical integration EV & error bounds =(105.12710963760242, 1.0679979662274464e-07)\n"
     ]
    }
   ],
   "source": [
    "sm=simulationStart(spot=100,sims=10**3,vol=0.1,steps=365,mu=0.05,t=1/365,strike=105) #Stockmotion=sm\n",
    "\n",
    "\n",
    "mean=sm.lowMemorySimulations()\n",
    "\n",
    "#dS=mu*S*dt+sigma*dWt\n",
    "\n",
    "\n",
    "#Analytical mean = S*exp(mu*t)\n",
    "#Derived from integral of S0*e^(mu*t-0.5*sigma^2+sigma*x)*e^-(x^2/2)\n",
    "print(\"\\n Mean =\" +format(mean))\n",
    "print(\"\\n Analytic integration Expected value =\" + format(sm.S0*math.exp(sm.mu*sm.t*sm.steps)))\n",
    "\n",
    "#Numerical integration method\n",
    "result = integrate.quad(lambda x: (1/math.sqrt(2*math.pi))*sm.S0*math.exp(sm.mu*sm.t*sm.steps-0.5*sm.vol**2+sm.vol*x)*math.exp(-(x**2)/2), -10, 10) #+/-10 s.d.s sufficiently converged for double floating point precision\n",
    "print(\"\\n Numerical integration EV & error bounds =\" + format(result))"
   ]
  },
  {
   "cell_type": "markdown",
   "metadata": {},
   "source": [
    "<blockquote style=\"font-family:Calibri; font-size:16px;\"> Here we stochastically simulate 10,000 runs of a stock with spot 100 and annualised drift 0.05. Via analytical integration, numerical integration and Monte Carlo simulation we find the final prices agree. This type of stochastic simulation will be key to our first section (later we will investigate other volatility simulations (e.g. time and price dependent) </blockquote>"
   ]
  },
  {
   "cell_type": "markdown",
   "metadata": {},
   "source": [
    "<blockquote style=\"font-family:Calibri; font-size:16px;\"> We now begin section one in earnest, starting with attempting to price a forward contact, progressively moving to more complex derivatives. Note: We will not always have tidy integration to help us!</blockquote>"
   ]
  },
  {
   "cell_type": "code",
   "execution_count": 17,
   "metadata": {},
   "outputs": [
    {
     "name": "stdout",
     "output_type": "stream",
     "text": [
      "0.05000000000000001\n",
      "\n",
      " Mean =5.62357568989178\n"
     ]
    }
   ],
   "source": [
    "#A forward contract is the right and the obligation to buy a stock at time t for price K.\n",
    "#The payoff is S-K.\n",
    "#Using risk neutral pricing E(C_T/Z_T)=C_0/Z_0 \n",
    "#Our only unknown in this equaton is C_0.\n",
    "#C_T=S-K\n",
    "#Z_0=e^-rT\n",
    "#Z_T=1\n",
    "#C_0=(e^-rT)*E[(S-K)]\n",
    "#S_0\n",
    "sm2=simulationStart(spot=100,sims=10**3,vol=0.1,steps=365,mu=0.05,t=1/365,strike=95) #Stockmotion=sm\n",
    "\n",
    "arr=sm2.simulationsArray()\n",
    "\n",
    "# for j in range(sims):\n",
    "#     Spot=S0\n",
    "#     for i in range(Steps):\n",
    "#         N01=random.gauss(0,1)\n",
    "#         Spot=Spot*(1+(mu*t+vol*sqrtt*N01))  #in this discrete approximate model we can go negative!!\n",
    "#     arr.append(Spot-strike) \n",
    "\n",
    "\n",
    "#Find e^-rtE(S-K)- K is const/ not a RV, K=strike=95\n",
    "rt=sm2.mu*sm2.t*sm2.steps #mu=rt in risk neutral world\n",
    "\n",
    "print(\"\\n Sample Mean =\" +format(math.exp(-rt)*statistics.mean(arr)-sm2.strike))\n",
    "print(\"\\n Expected Value =\" +format(math.exp(-rt)*statistics.mean(arr)-sm2.strike))\n",
    "\n",
    "\n",
    "\n",
    "\n",
    "\n"
   ]
  },
  {
   "cell_type": "code",
   "execution_count": 36,
   "metadata": {},
   "outputs": [],
   "source": [
    "#Section one looks at pricing\n",
    "#Fwd Contract\n",
    "#Call\n",
    "#barrier\n",
    "#straddle\n",
    "#Asian option\n",
    "#CDO\n",
    "#CDO Sq\n",
    "\n",
    "#####Section I###\n",
    "##Forward contract.\n",
    "\n",
    "\n",
    "\n",
    "\n",
    "##Section two will look at pricing under different assumptions, specifically stochastic volatility\n",
    "\n",
    "##Section three will pull data via apis and compare with pricing and observed volatilities"
   ]
  },
  {
   "cell_type": "markdown",
   "metadata": {},
   "source": [
    "\n",
    "Euler's identity: $ e^{i \\pi} + 1 = 0 $\n",
    "\n",
    "\n",
    "Euler's identity: $$ e^{i \\pi} + 1 = 0 $$"
   ]
  },
  {
   "cell_type": "code",
   "execution_count": null,
   "metadata": {},
   "outputs": [],
   "source": []
  }
 ],
 "metadata": {
  "kernelspec": {
   "display_name": "Python 3",
   "language": "python",
   "name": "python3"
  },
  "language_info": {
   "codemirror_mode": {
    "name": "ipython",
    "version": 3
   },
   "file_extension": ".py",
   "mimetype": "text/x-python",
   "name": "python",
   "nbconvert_exporter": "python",
   "pygments_lexer": "ipython3",
   "version": "3.7.7"
  },
  "varInspector": {
   "cols": {
    "lenName": 16,
    "lenType": 16,
    "lenVar": 40
   },
   "kernels_config": {
    "python": {
     "delete_cmd_postfix": "",
     "delete_cmd_prefix": "del ",
     "library": "var_list.py",
     "varRefreshCmd": "print(var_dic_list())"
    },
    "r": {
     "delete_cmd_postfix": ") ",
     "delete_cmd_prefix": "rm(",
     "library": "var_list.r",
     "varRefreshCmd": "cat(var_dic_list()) "
    }
   },
   "types_to_exclude": [
    "module",
    "function",
    "builtin_function_or_method",
    "instance",
    "_Feature"
   ],
   "window_display": false
  }
 },
 "nbformat": 4,
 "nbformat_minor": 4
}
