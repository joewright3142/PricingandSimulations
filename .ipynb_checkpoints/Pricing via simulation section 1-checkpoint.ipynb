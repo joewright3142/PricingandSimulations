{
 "cells": [
  {
   "cell_type": "markdown",
   "metadata": {},
   "source": [
    "<h1 style=\"color:green;\">Design patterns for option pricing via simulation<h1>\n",
    "    <blockquote style=\"font-family:Calibri; font-size:16px;\">This is a personal project of mine, investigating how to price different financial options through simulation and, where possible comparing these values to analytic prices</blockquote>"
   ]
  },
  {
   "cell_type": "markdown",
   "metadata": {},
   "source": [
    "<h2 style=\"color:green;\">Part 0: Setup-<h2>\n",
    "<blockquote style=\"font-family:Calibri; font-size:16px;\">Import libraries, establish and justify RNG choice, numerous random draws from a Gaussian distribution will form the cornerstone of our method, we find random.gauss to produce results more quickly </blockquote>"
   ]
  },
  {
   "cell_type": "code",
   "execution_count": 2,
   "metadata": {
    "scrolled": true
   },
   "outputs": [
    {
     "name": "stdout",
     "output_type": "stream",
     "text": [
      "\n",
      "Running time random = 1057 ms\n",
      "Running time np.normal = 2898 ms\n"
     ]
    }
   ],
   "source": [
    "import time \n",
    "import random \n",
    "import numpy\n",
    "import math\n",
    "import scipy.integrate as integrate #integration kit\n",
    "from scipy.stats import norm\n",
    "import statistics\n",
    "\n",
    "tic=time.perf_counter()\n",
    "for i in range(10**6):\n",
    "    random.gauss(0,1)\n",
    "toc=time.perf_counter()\n",
    "\n",
    "tic2=time.perf_counter()\n",
    "for i in range(10**6):\n",
    "    numpy.random.normal()\n",
    "toc2=time.perf_counter()\n",
    "print(\"\\nRunning time random = {} ms\".format(int((toc-tic)*10**3))+\n",
    "      \"\\nRunning time np.normal = {} ms\".format(int((toc2-tic2)*10**3)))\n",
    "#we use random.gauss due to it's ability to generate normal draws more quickly!\n",
    "\n"
   ]
  },
  {
   "cell_type": "code",
   "execution_count": 3,
   "metadata": {},
   "outputs": [],
   "source": [
    "class simulationStart:\n",
    "    def __init__(self,spot,sims,vol,steps,t,mu,strike):\n",
    "        self.S0=spot\n",
    "        self.sims=sims\n",
    "        self.vol=vol\n",
    "        self.steps=steps\n",
    "        self.strike=strike\n",
    "        self.t=t\n",
    "        \n",
    "        self.mu=mu\n",
    "\n",
    "    def lowMemorySimulations(self): #good for calculating EV without using memory (arr)- no descriptive stats obtainable\n",
    "        totsum=0\n",
    "        sqrtt=math.sqrt(self.t)\n",
    "        for j in range(self.sims):\n",
    "            Spot=self.S0\n",
    "            for i in range(self.steps):\n",
    "                N01=random.gauss(0,1)\n",
    "                Spot=Spot*(1+(self.mu*self.t+self.vol*sqrtt*N01))  #in this discrete approximate model we can go negative!!\n",
    "            totsum+=Spot #memoryless- does not require storing an array\n",
    "\n",
    "        return totsum/self.sims \n",
    "    def simulationsArray(self): #keep array\n",
    "        arr=[]\n",
    "        sqrtt=math.sqrt(self.t)\n",
    "        for j in range(self.sims):\n",
    "            Spot=self.S0\n",
    "            for i in range(self.steps):\n",
    "                N01=random.gauss(0,1)\n",
    "                Spot=Spot*(1+(self.mu*self.t+self.vol*sqrtt*N01))  #in this discrete approximate model we can go negative!!\n",
    "            arr.append(Spot) #keep an array\n",
    "        return arr\n",
    "\n",
    "\n",
    "\n",
    "            \n",
    "\n",
    "\n",
    "\n"
   ]
  },
  {
   "cell_type": "markdown",
   "metadata": {},
   "source": [
    "<h2 style=\"color:green;\">Section 1: Pricing using log normal assumptions<h2>\n",
    "<blockquote style=\"font-family:Calibri; font-size:16px;\">Build progressvely more complex options, compare analytic price to simulations </blockquote>"
   ]
  },
  {
   "cell_type": "code",
   "execution_count": 3,
   "metadata": {},
   "outputs": [
    {
     "name": "stdout",
     "output_type": "stream",
     "text": [
      "\n",
      " Mean =105.10272582673365\n",
      "\n",
      " Analytic integration Expected value =105.12710963760242\n",
      "\n",
      " Numerical integration EV & error bounds =(105.12710963760242, 1.0679979662274464e-07)\n"
     ]
    }
   ],
   "source": [
    "sm=simulationStart(spot=100,sims=10**3,vol=0.1,steps=365,mu=0.05,t=1/365,strike=105) #Stockmotion=sm\n",
    "\n",
    "\n",
    "mean=sm.lowMemorySimulations()\n",
    "\n",
    "#dS=mu*S*dt+sigma*dWt\n",
    "\n",
    "\n",
    "#Analytical mean = S*exp(mu*t)\n",
    "#Derived from integral of S0*e^(mu*t-0.5*sigma^2+sigma*x)*e^-(x^2/2)\n",
    "print(\"\\n Mean =\" +format(mean))\n",
    "print(\"\\n Analytic integration Expected value =\" + format(sm.S0*math.exp(sm.mu*sm.t*sm.steps)))\n",
    "\n",
    "#Numerical integration method\n",
    "result = integrate.quad(lambda x: (1/math.sqrt(2*math.pi))*sm.S0*math.exp(sm.mu*sm.t*sm.steps-0.5*sm.vol**2+sm.vol*x)*math.exp(-(x**2)/2), -10, 10) #+/-10 s.d.s sufficiently converged for double floating point precision\n",
    "print(\"\\n Numerical integration EV & error bounds =\" + format(result))"
   ]
  },
  {
   "cell_type": "markdown",
   "metadata": {},
   "source": [
    "<blockquote style=\"font-family:Calibri; font-size:16px;\"> Here we stochastically simulate 10,000 runs of a stock with spot 100 and annualised drift 0.05. Via analytical integration, numerical integration and Monte Carlo simulation we find the final prices agree. This type of stochastic simulation will be key to our first section (later we will investigate other volatility simulations (e.g. time and price dependent) </blockquote>"
   ]
  },
  {
   "cell_type": "markdown",
   "metadata": {},
   "source": [
    "<blockquote style=\"font-family:Calibri; font-size:16px;\"> We now begin Section one in earnest, starting with attempting to price a forward contact, progressively moving to more complex derivatives. Note: We will not always have tidy integration to help us!\n",
    "\n",
    "<h3 style=\"color:green;\">Fwd contract<h3>\n",
    "</blockquote>"
   ]
  },
  {
   "cell_type": "code",
   "execution_count": 23,
   "metadata": {},
   "outputs": [
    {
     "name": "stdout",
     "output_type": "stream",
     "text": [
      "\n",
      " Sample Mean =4.681959382095172\n",
      "\n",
      " Expected Value =5.000000000000014\n"
     ]
    }
   ],
   "source": [
    "#A forward contract is the right and the obligation to buy a stock at time t for price K.\n",
    "#The payoff is S-K.\n",
    "#Using risk neutral pricing E(C_T/Z_T)=C_0/Z_0 \n",
    "#Our only unknown in this equaton is C_0.\n",
    "#C_T=S-K\n",
    "#Z_0=e^-rT\n",
    "#Z_T=1\n",
    "#C_0=(e^-rT)*E[(S-K)]\n",
    "#S_0\n",
    "sm2=simulationStart(spot=100,sims=10**3,vol=0.1,steps=365,mu=0.05,t=1/365,strike=95) #Stockmotion=sm\n",
    "\n",
    "arr=sm2.simulationsArray()\n",
    "\n",
    "# for j in range(sims):\n",
    "#     Spot=S0\n",
    "#     for i in range(Steps):\n",
    "#         N01=random.gauss(0,1)\n",
    "#         Spot=Spot*(1+(mu*t+vol*sqrtt*N01))  #in this discrete approximate model we can go negative!!\n",
    "#     arr.append(Spot-strike) \n",
    "\n",
    "\n",
    "#Find e^-rtE(S-K)- K is const/ not a RV, K=strike=95\n",
    "rt=sm2.mu*sm2.t*sm2.steps #mu=rt in risk neutral world\n",
    "\n",
    "print(\"\\n Sample Mean =\" +format(math.exp(-rt)*statistics.mean(arr)-sm2.strike))\n",
    "print(\"\\n Expected Value =\" +format(math.exp(-rt)*sm.S0*math.exp(sm2.mu*sm2.t*sm2.steps)-sm2.strike))\n",
    "\n",
    "\n",
    "\n",
    "\n",
    "\n",
    "\n"
   ]
  },
  {
   "cell_type": "markdown",
   "metadata": {},
   "source": [
    "<blockquote style=\"font-family:Calibri; font-size:16px;\">The simulation method for forward contract is identical, simulate the stock as necessary- then plug each value into the payoff function (S-K)</blockquote>"
   ]
  },
  {
   "cell_type": "markdown",
   "metadata": {},
   "source": [
    "<h3 style=\"color:green;\">Call option<h3>\n",
    "<blockquote style=\"font-family:Calibri; font-size:16px;\">The vanilla call option, with pay off (S-K) can be solved analytically in at least two ways- by solving the Black-Scholes eqn and via risk-neutral pricing, use riskless bond for numeraire <br> \n",
    "    $dS=\\mu Sdt+\\sigma SdW_{t}$ <br>\n",
    "    $dB=rBdt$ <br>\n",
    "    \n",
    "Risk-neutral pricing requires $d(S/B)$ be a Martingale. Using Ito's lemma we get: <br>\n",
    "    $d(S/B)=(\\mu-r)\\frac S B dt+randomness$, Martingale $ \\iff \\mu=r$ <br>\n",
    "Thus using RN pricing:\n",
    "    $\\frac {C_0} {B_0}=\\mathbb E[\\frac {C_T}{ B_T}]$ <br>\n",
    "Equivalently $C_0=e^{-rt}E[{C_T} ]$\n",
    "We may now proceed with both MC and probabilistic method\n",
    " </blockquote>"
   ]
  },
  {
   "cell_type": "code",
   "execution_count": 62,
   "metadata": {},
   "outputs": [
    {
     "name": "stdout",
     "output_type": "stream",
     "text": [
      "\n",
      " Sample Mean =10.322783140874224\n",
      "\n",
      " Expected Value10.405284289598569\n"
     ]
    }
   ],
   "source": [
    "sm3=simulationStart(spot=100,sims=10**3,vol=0.1,steps=365,mu=0.05,t=1/365,strike=95) #Stockmotion=sm\n",
    "arr=sm3.simulationsArray()\n",
    "\n",
    "# for j in range(sims):\n",
    "#     Spot=S0\n",
    "#     for i in range(Steps):\n",
    "#         N01=random.gauss(0,1)\n",
    "#         Spot=Spot*(1+(mu*t+vol*sqrtt*N01))  #in this discrete approximate model we can go negative!!\n",
    "#     arr.append(Spot-strike) \n",
    "\n",
    "\n",
    "#Find e^-rtE(S-K)- K is const/ not a RV, K=strike=95\n",
    "rt=sm3.mu*sm3.t*sm3.steps #mu=rt in risk neutral world\n",
    "for i in range(len(arr)):\n",
    "    arr[i]=max(arr[i]-sm3.strike,0)\n",
    "    \n",
    "\n",
    "d1=(math.log(sm3.S0/sm3.strike)+(sm3.mu+0.5*sm3.vol**2)*sm3.t*sm3.steps)/(sm3.vol*math.sqrt(sm3.t*sm3.steps))\n",
    "d2=(math.log(sm3.S0/sm3.strike)+(sm3.mu-0.5*sm3.vol**2)*sm3.t*sm3.steps)/(sm3.vol*math.sqrt(sm3.t*sm3.steps))\n",
    "\n",
    "print(\"\\n Sample Mean =\" +format(math.exp(-rt)*(statistics.mean(arr))))\n",
    "print(\"\\n Expected Value\" + format(sm3.S0*norm.cdf(d1)-sm3.strike*math.exp(-rt)*norm.cdf(d2)))\n",
    "\n",
    "\n"
   ]
  },
  {
   "cell_type": "markdown",
   "metadata": {},
   "source": [
    "<blockquote style=\"font-family:Calibri; font-size:16px;\"> Here we stochastically simulate 10,000 runs of a stock with spot 100 and annualised drift 0.05. Via analytical integration, numerical integration and Monte Carlo simulation we find the final prices agree. This type of stochastic simulation will be key to our first section (later we will investigate other volatility simulations (e.g. time and price dependent) </blockquote>\n"
   ]
  },
  {
   "cell_type": "markdown",
   "metadata": {},
   "source": [
    "<blockquote style=\"font-family:Calibri; font-size:16px;\"> Barrier option: Barrier options can knock in or knock out when they reach a certain value- they can be analytically priced via the reflection principle and Girsanov's theorem. We price a down and in option. The other barrier prices are similarly derived. </blockquote>"
   ]
  },
  {
   "cell_type": "markdown",
   "metadata": {},
   "source": [
    "For a down and out barrier struck at y with barrier x, an option has payout iff $\\mathbb P (W_{t}>y, m_{t}>x)$. We need to compute this probability. Via the reflection principle we have: $\\mathbb P (W_{t}>y, m_{t}>x)=1-\\mathbb P (W_{t}>y, m_{t}<=x)=1-\\mathbb P (W_{t}<2y-x)$, the analytic price is: $S_{0}N(d_{1})-Ke^{-rT}-(\\frac{H}{S_{0}})^{1+2r\\sigma^-2}S_{0}N(h_{1})+(\\frac{H}{S_{0}})^{-1+2r\\sigma^-2}Ke^{-rT}$\n"
   ]
  },
  {
   "cell_type": "code",
   "execution_count": 70,
   "metadata": {},
   "outputs": [
    {
     "name": "stdout",
     "output_type": "stream",
     "text": [
      "\n",
      " Simulation approach\n",
      "[23.635194339035152, 18.62876175019339, 0, 18.717563068700755, 15.775684979385105, 19.88225751740039, 0, 31.694664418927857, 0, 0, 11.128435007732321, 8.956157418230703, 22.378981298463614, 1.234017594868476, 8.021931219756695, 20.378448558617634, 27.30992226742285, 10.623971891455298, 34.62773395081078, 24.440523858892433, 11.040270139029644, 4.515801758945585, 0, 26.055875159195907, 4.797351730280312, 4.948098119097168, 15.292445630889617, 0, 29.328190880898546, 0.21994669686915813, 8.240665298049336, 11.965934607390238, 5.07190738467564, 20.172996170872352, 7.740427746851523, 0, 0, 6.965872668193327, 32.657592804526345, 0.878310128792009, 15.27031122141203, 14.392314886860206, 26.83030756602409, 30.474571384189616, 0, 0, 7.21575540908529, 1.5086529679672083, 15.04844506609308, 2.672312351344445, 4.384766971187261, 0, 15.174235593872652, 0, 0, 18.69386544983621, 11.272928334086359, 9.0290085895479, 0, 11.644318902389074, 14.569573354980278, 17.84247676575106, 7.496240850192606, 6.623014835021891, 2.2775032381326383, 23.27683098995594, 9.64478656552059, 0, 13.367825420298317, 25.223470022675983, 0, 4.736843767081041, 28.448421538673088, 10.276812955261605, 7.828142580153909, 14.503275031433134, 7.792316496335133, 10.256475794901235, 15.355155303131184, 1.742267803741825, 0, 8.24017902216687, 29.79369242816152, 32.983825263978204, 20.588542866170556, 10.188086404295177, 16.548341385722466, 0, 7.144970961271312, 0, 6.35781287144215, 10.331941344497267, 19.3811033130023, 0.3759501398424874, 22.942905856215233, 16.618090676235823, 7.021375432424051, 0, 9.986290195012458, 10.236499124765416, 0, 8.057344660437082, 4.2994949294512, 0, 0, 8.644937198087703, 1.868991086353887, 16.47545772950255, 34.061028614935054, 22.176479385644512, 0, 5.35788929456433, 0, 5.12837531242009, 8.580812092273902, 0, 0, 0.6904353957749692, 19.205935286051883, 12.118579597303935, 35.076004586892935, 14.667595437513825, 13.085798482218294, 20.381564842316237, 9.238085887458155, 3.2039820324802832, 20.04466608348757, 1.5393719785641906, 26.95993669357236, 0, 13.479913347421572, 14.477635577392306, 12.888397568547205, 0, 0.9941448139953337, 16.099477389169394, 6.697769477981268, 18.336593044045955, 0, 22.171368876156293, 0, 46.915589508102414, 5.839374780403475, 0, 25.302654510971493, 11.298837513267756, 26.46919129039577, 13.500288114252783, 0, 0, 16.381037054223626, 5.56575452159845, 15.005032213978907, 17.567603709669626, 21.627293187583092, 0, 29.011250199883918, 9.271846634820221, 10.693674521496618, 10.807438427042243, 5.0115151256511155, 12.44036658677014, 1.0754170885831087, 24.05792666895809, 5.5999344771425825, 8.152363760919258, 33.405946861329426, 14.088207797715484, 0, 40.861098335912175, 3.3901672145198063, 25.477073600899857, 0, 0, 0, 26.11803942173374, 5.66625993351488, 9.728960900140152, 11.232996350509097, 0, 8.064857065542043, 14.325533808659472, 0.1622624776443189, 26.662067590423433, 25.02270643487762, 15.766537865409461, 33.51384212049109, 8.117972912084696, 13.272006198973557, 10.854331948781422, 4.252884373079283, 0, 9.573215688389652, 0, 29.97574878471562, 0, 18.699457388329563, 43.4758619284172, 0, 0, 2.1638358966620785, 12.275943559482158, 18.225269014648788, 14.328075996372121, 14.209731325758952, 6.365811629303323, 0, 15.657873752861718, 15.850344959647643, 16.29747605712214, 8.304866733283362, 14.664908844875725, 25.205060854955704, 10.071066186854765, 19.073185028378248, 0, 0, 7.941324332401152, 4.827989537445404, 3.259124638542417, 3.5166942783757094, 8.120955353571944, 32.61851413097948, 0, 0, 0, 11.104064775922595, 22.177658849545054, 13.97449024705071, 8.243433313446602, 18.281289098251264, 7.699391880218144, 9.07680855453438, 1.034125356946376, 0, 5.060833142187775, 29.961462143547422, 0.11443601757683552, 12.500240847043116, 12.873555085852686, 0, 12.776629605521862, 17.585211965041495, 0, 3.665057739536209, 29.960976668263925, 0, 16.993866188444855, 20.670674079090787, 18.26536634396068, 11.518397362354321, 0, 17.26772164868956, 1.3625446733284576, 4.7276840086417025, 3.9263219942374974, 17.31237245411951, 0.9741161361629764, 7.807287616810612, 6.721184824357053, 7.866392832228286, 0, 0, 15.369036558547819, 34.36414380357877, 15.90189827921779, 37.694601702985096, 10.022879739458133, 32.76090135090713, 10.323554204674352, 3.3029844243723687, 14.155737450884544, 13.253823339912913, 0, 12.654493008917967, 0, 14.548886617354583, 29.523071410762924, 14.011101419518866, 23.120609348578014, 0, 2.1477609073303796, 0, 0, 19.444095462337472, 9.7257125829954, 12.687807426499418, 0, 18.11449284967145, 23.127259979729928, 15.660061202213981, 10.69298729775015, 0, 3.9385862995931546, 0, 17.046935927671527, 16.92242145999721, 0, 0, 19.3132248130794, 3.6555567759082805, 0, 0.8751519271894495, 5.4524585750628205, 11.312200047274729, 43.25021083431187, 0, 13.446901491236076, 24.889625339244688, 33.20197421621336, 5.465761549197339, 0, 11.504942183621438, 11.912428707724814, 0, 20.985926482788386, 0, 0, 7.935684041119714, 5.788958564466512, 6.833351053548782, 21.616300193747904, 14.118685570583807, 26.502328596383364, 10.184612440281072, 1.2609062308042525, 19.373117245435623, 0.570487406682517, 7.627599316928837, 12.349814755827111, 0, 13.030009573014496, 7.487671975674559, 0, 23.637749049202014, 1.6199228706457944, 15.03728489119004, 35.48427625155344, 9.024887695036625, 20.99917338522394, 8.935882880259058, 0, 0, 0, 27.983404327981333, 0.12981985329531653, 0.7052348385392264, 18.533773931214853, 12.121922393033046, 6.626199861033896, 12.49861125912625, 21.89986248570061, 0, 12.680091992344273, 2.1312548008061185, 12.195288263921455, 28.95092065184339, 16.721950693497803, 0, 9.642337541265718, 6.44238513385676, 0.34891671124030665, 3.0673803677424303, 6.718475790427092, 17.753019184261873, 4.82599579591367, 14.125065147872519, 0.7165779692281262, 9.109070347674617, 0, 10.259546294502186, 17.325218337912816, 24.380437419767915, 7.7674582249038195, 11.215155988285943, 11.033109154348878, 3.300590274551851, 0, 17.376965065510873, 21.274886856935225, 13.99865230697452, 8.448188613169592, 21.650271431600444, 25.36492015648345, 7.165689799255546, 3.874070362843895, 1.4119909188168975, 10.08639586507509, 0, 12.149874750540334, 0, 10.215526586612114, 10.105154748001468, 0, 0, 1.8303817702079925, 0, 1.190449168787083, 8.270370074895979, 0, 0, 4.52543521337364, 25.742839748064526, 5.10758283573297, 14.178330627638843, 0, 7.315550181171503, 0, 0, 27.711302957171824, 0, 4.9650936978448215, 0, 0, 13.415235093124366, 7.454844327142993, 8.81879184655287, 0, 0, 5.502963548720118, 0, 0.017659176830463252, 10.991622967964673, 12.19266943589902, 4.458971320639591, 7.744869652886436, 15.863146179467819, 2.0785323352720724, 7.490431621126461, 10.12138800878077, 17.268000428164612, 3.5079470249695532, 0, 7.328595267092425, 0, 36.313914370623564, 18.85249102197872, 23.69372659437562, 49.86969358888854, 9.854078951880055, 18.44585245689531, 15.80062306464528, 2.09823498902972, 0.07571702343307152, 0, 19.570547449124774, 0, 0, 0, 2.8556448429197303, 22.53754855959788, 24.848065213067954, 7.962845319213841, 21.880977263862647, 8.405317993163834, 11.403912233838241, 0, 6.532994882082775, 0, 7.315983765216231, 14.094549365460125, 10.155409615450623, 21.859626242860884, 0, 10.21829693032636, 0, 17.215823873881888, 7.175703619773543, 19.411218835520984, 26.170967966796127, 16.878514940247285, 2.6925512763592536, 20.85346193417891, 5.326929961060927, 18.364313985928547, 5.996073881807504, 25.560005579364628, 22.372622200326163, 0, 3.6601619630161224, 0, 0, 0, 0, 13.96373115143237, 18.111695503561506, 0.9042820889231109, 4.229068408629502, 19.372015292221533, 12.374822144933262, 8.485055460504384, 0, 0, 17.34113315519832, 2.2138314460091237, 0, 25.828603982570172, 10.4499960158915, 4.671901761244172, 11.299784660083873, 12.908732681463931, 1.3135525424052474, 0, 10.145680920087457, 10.778436154323416, 16.063797100903955, 0, 10.695245571479632, 20.846417607744414, 14.211472394228451, 16.590230105183295, 8.546771287028761, 0, 0.7722902148359054, 6.036444580850812, 0.7966486732521787, 0, 0, 0, 28.461643105208466, 0, 8.927505251507355, 0, 11.634877342269448, 15.045017969994191, 0, 25.521573155570692, 8.028063980551636, 7.846320405896293, 0, 32.45371589284099, 0, 6.981632423207017, 6.65532692300404, 0, 0, 8.829721322528854, 0, 12.344418670113782, 15.259798182954285, 8.997613973134477, 20.370215827472606, 9.422113581732916, 9.921977080670047, 14.51467912626407, 12.104465054753263, 0, 11.660090370625838, 12.724764097560538, 4.566106594086023, 3.7731545101236037, 14.406835025901898, 0, 19.228798134851644, 1.9789936298883504, 4.10042655990614, 9.276691465277409, 8.66632968661304, 2.081918335319912, 14.096822407680847, 0, 14.735431805131881, 0, 19.761167695018756, 0, 16.65059729184449, 8.844726471063922, 15.21335395595355, 5.584228680877715, 23.304300509297917, 0, 11.455288947395701, 12.980262709191933, 15.280815278086322, 14.293293023602544, 0, 14.185917898612814, 17.615831153619837, 0, 7.744744600270678, 10.059721859081122, 0, 0, 0, 19.9320351514409, 22.680921782396908, 23.79429573462103, 3.2881402349593998, 0, 9.308805904436099, 2.0742532056326013, 16.371339482979337, 5.5249726927155365, 9.54442726154825, 17.86666890568064, 7.748573153230922, 24.44144060346349, 9.574391432574089, 10.208869707197891, 21.1950554047838, 14.255807711502044, 13.48220180829098, 30.023880538574744, 11.30293409662248, 6.841307138144117, 1.8564924599997852, 12.593062043466958, 7.3778594751768765, 37.35612926729675, 9.983352543338867, 0, 9.512068076310015, 19.09821158357863, 5.638300200807308, 17.49289170402227, 1.2806131186264338, 4.867329941361945, 0, 10.668053511220918, 29.183426717249418, 0.46864216342959253, 36.437720142294864, 32.81590040018547, 30.589877395694856, 17.332165277919117, 9.974029347554676, 21.332897006204178, 0, 17.903444846351235, 4.277696721878641, 14.761178544771013, 3.6553908498380565, 14.04729634218694, 14.573670871698184, 1.4234686738783466, 17.729162282436803, 4.92314295855455, 2.489436239152923, 14.421165421865567, 7.658395864096789, 20.511670999744695, 15.702293078951797, 21.866561430933956, 11.357880815449917, 22.914372443869183, 0, 26.784180511563562, 3.1721565107070546, 9.47742459242869, 15.92858529814528, 0, 13.28358594514114, 0, 10.135745540125498, 0, 2.455344611142067, 4.328814969999513, 2.405211594927664, 16.619528756355592, 0, 4.730061947308812, 28.596458535675353, 0.8039981447993085, 11.065386867539488, 0, 5.087265690458054, 23.78807569738754, 12.305869532044, 19.33491935477994, 6.134469278413178, 19.26620062535423, 9.824721455428474, 0, 4.769717288281825, 10.964292491798062, 0, 10.288432260869328, 0, 11.304922448159957, 0, 16.55509746929731, 33.70533214984414, 2.473303673408978, 5.182406415255954, 35.678633840867434, 20.340616582408046, 0, 7.66431095299653, 1.0078027787718895, 20.959987575736292, 16.819059268498137, 5.027910888496265, 0.7572711737093556, 14.720127887465594, 25.397482387024425, 0, 20.52439801863646, 34.503633962004585, 20.523587551084987, 11.987298271807916, 2.095062991471849, 3.5854177735584187, 15.669287206903164, 0, 10.923211146139266, 2.288825153568027, 0, 0, 0, 8.317610731002645, 27.44793510583122, 0, 0, 0, 3.786135106890015, 27.901683787629665, 18.627926891873187, 0, 8.803270989918943, 8.719821555548606, 0, 17.85315138332652, 0, 15.191201629543599, 16.111291448643, 3.4279079215630617, 6.226663689881761, 12.822582571318861, 10.541730342619203, 3.1420272930367474, 18.010806140360643, 18.886705959322413, 21.34629357828426, 27.81375434601621, 17.290354130886996, 0, 19.972786579451693, 6.352343015734661, 12.13686667518617, 0, 11.691155932582348, 12.599774076483612, 11.038359708987187, 11.329283371665895, 21.95766578329426, 21.51784526907548, 31.095130027587032, 16.969332600370393, 8.01796169057728, 5.33568378933596, 13.371070486617938, 0, 12.256867830323642, 12.001131794667131, 17.886888268668528, 5.792368941205268, 7.995296186490606, 1.3982326346724818, 10.82710625021268, 13.126771036299218, 16.633550519352184, 13.959599815722996, 9.229236159420012, 5.767769633768708, 0, 6.435970964156496, 0, 13.175400223915702, 10.35445416685836, 16.486362767908105, 5.739923996879739, 9.660102476867891, 0, 33.332542793269596, 11.042513843757462, 1.553524606877616, 18.53998581837031, 11.226832146840792, 5.685795242399266, 12.120329339219793, 14.345600764901278, 26.83660883977484, 19.50656175838563, 0.6535617565583323, 21.198244107988828, 0.7315736618099038, 26.2327567498169, 3.0334618076016113, 30.83324974138411, 11.707871351695132, 33.926514329949924, 1.4685929261227528, 13.415687643502636, 0, 0, 7.665850006115335, 0, 11.843223693921189, 0, 17.416741911985937, 13.624150513631179, 11.486118910145663, 0, 24.917189073853876, 27.781583159526946, 18.57586746219195, 22.88908058308766, 18.469177814015637, 28.26702196477285, 8.955933449556255, 28.027947082858745, 0, 10.146026608995882, 2.829347197377146, 0, 12.126712245436977, 16.87957947285686, 16.945848857642332, 4.610669541371593, 5.936797648231348, 16.979783840837925, 24.21135934636733, 9.6741487415444, 3.375996025363122, 0, 11.855754677413728, 10.391586899056975, 9.000208684622578, 0, 28.23712640143816, 4.7115585968358005, 0, 2.166110650320718, 6.786966910478355, 0, 42.0198318393885, 23.165754553574715, 0, 13.876806913472166, 3.782250612577215, 12.526475142784463, 14.30900364092632, 9.11822187924345, 28.29523638909474, 1.5187473466688886, 0, 2.6403007684106257, 0, 0, 0, 15.82833352105466, 7.120226990493833, 0, 11.635174847776554, 22.60873544707208, 0, 0, 19.959737033293067, 5.258814029648619, 23.687931136370608, 10.267014104958406, 2.314988788797251, 0, 10.472068246930391, 12.89264161216677, 24.190440659296456, 27.324836268191916, 11.147340454812522, 22.50953650873167, 3.924770398096129, 27.95821881080282, 0.9427180439748923, 17.446367045857713, 12.157065139662322, 9.512750253442093, 0, 9.647637271966417, 21.735666247188306, 1.1019708531122632, 16.622963840598402, 0, 24.36158000046477, 20.282922659965138, 20.1683614766348, 18.760106602884733, 9.135612790135, 0, 21.723216230513486, 6.668553378514503, 15.92597010278999, 0, 19.89615013619435, 8.163265795519408, 29.501788445601036, 0, 0, 4.3657364239805645, 14.609804096460323, 26.836584937882307, 18.424477692685187, 13.16455412409212, 29.553105541441994, 18.788167483323818, 11.825239975724628, 0, 19.9624151144658, 3.989066843195161, 31.58084195096974, 18.454372593316137, 8.194214164457065, 19.786756709410326, 15.151759007005225, 0, 12.291102165184725, 18.647810045610157, 9.422848834355122, 17.639909254878617, 9.533961854416617, 17.80485345046884, 3.644111949623394, 0, 0, 0, 7.77249713628018, 14.765954958361974, 0, 12.872321373218824, 11.829350610447733, 34.32248945380607, 8.694991736586985, 0, 1.6756172467465404, 0, 10.634975485587418, 29.04102063763075, 9.473708804820006, 7.924346914279312, 11.249401854895154, 5.627827934395839, 25.147528338524452, 22.565282349077478, 24.83626736038508, 2.8076031434123223, 0, 1.771301252417203, 25.803009362194913, 17.87232968880336, 10.31732562875456, 0, 14.517723845978097, 0, 0, 11.956674674503205, 20.848009550052936, 32.649677195032496, 14.402233139435012, 14.41315072665887, 10.706856374409838, 0, 2.364643350475461, 7.687530780921833, 3.3194335040724923, 0, 11.490294661787587, 21.991422292184055, 5.369554159173376, 14.01067267500585, 8.022153368452791, 25.276003972583084, 23.66113603809248, 26.29736766096167, 0, 11.44783134863954, 7.618468856110738, 23.660399839320107, 2.9340630194909068, 16.989546496410142, 7.313946462202949, 5.310518968883102, 7.12426202913116, 7.182476971781057, 21.61654524264945, 7.458054812073726, 0, 5.649180367325329, 13.391318558262284, 0, 0, 29.455833136440788, 13.447974837464358, 0, 0, 7.17391521934654, 10.752817809742012, 11.61812584344952, 6.412761264846935, 30.083700951330755, 7.642866728644549, 1.062804238683384, 20.584523218939097]\n",
      "\n",
      " Sample Mean =10.118479161089237\n",
      "\n",
      "Running time random = 3505 ms\n"
     ]
    }
   ],
   "source": [
    "print(\"\\n Simulation approach\")\n",
    "sm4=simulationStart(spot=100,sims=10**3,vol=0.1,steps=365,mu=0.05,t=1/365,strike=95) #Stockmotion=sm\n",
    "spot=100\n",
    "sims=10**3\n",
    "vol=0.1\n",
    "steps=3650 #we discretise further due to barrier condition!!\n",
    "mu=0.05\n",
    "t=1/3650\n",
    "period=t*steps\n",
    "strike=95\n",
    "barrier=90\n",
    "\n",
    "#In this case we need to estimate whether we hit the barrier at any point, one issue with this is with discrete time is-\n",
    "# we may overlook hitting the barrier at high resolutions (in our case, 1 day)\n",
    "#This is an area where time complexity dimensionality begins to creep in.\n",
    " \n",
    "tic=time.perf_counter()    \n",
    "arr=[]\n",
    "sqrtt=math.sqrt(t)\n",
    "for j in range(sims):\n",
    "    spot=100\n",
    "    flag=0\n",
    "    for i in range(steps):\n",
    "        N01=random.gauss(0,1)\n",
    "        spot=spot*(1+(mu*t+vol*sqrtt*N01))  #in this discrete approximate model we can go negative!!\n",
    "        if spot<=barrier:\n",
    "            spot=0\n",
    "            break\n",
    "    if spot<strike:\n",
    "        spot=0\n",
    "    else:\n",
    "        spot=spot-strike\n",
    "    arr.append(spot) #keep an array\n",
    "print(arr)\n",
    "\n",
    "print(\"\\n Sample Mean =\" +format(math.exp(-mu*period)*(statistics.mean(arr))))\n",
    "\n",
    "toc=time.perf_counter()\n",
    "print(\"\\nRunning time random = {} ms\".format(int((toc-tic)*10**3)))\n",
    "\n"
   ]
  },
  {
   "cell_type": "markdown",
   "metadata": {},
   "source": [
    "<blockquote style=\"font-family:Calibri; font-size:16px;\"> Here we have used the same parameters as in the call option, we observe how the value has fallen, as expected, time complexity is also higher here, we discretise steps into 0.1 days to increase the probability barrier hits are actually accounted for. </blockquote>"
   ]
  },
  {
   "cell_type": "code",
   "execution_count": 72,
   "metadata": {},
   "outputs": [
    {
     "name": "stdout",
     "output_type": "stream",
     "text": [
      "10.175441620958736\n"
     ]
    }
   ],
   "source": [
    "##Analytic price\n",
    "spot=100\n",
    "sims=10**3\n",
    "vol=0.1\n",
    "steps=3650 #we discretise further due to barrier condition!!\n",
    "mu=0.05\n",
    "t=1/3650\n",
    "period=t*steps\n",
    "strike=95\n",
    "barrier=90\n",
    "\n",
    "\n",
    "H=barrier\n",
    "d1=(math.log(spot/strike)+(mu+0.5*vol**2)*period)/(vol*math.sqrt(period))\n",
    "d2=(math.log(spot/strike)+(mu-0.5*vol**2)*period)/(vol*math.sqrt(period))\n",
    "h1=(math.log(H**2/(spot*strike))+(mu+0.5*vol**2)*period)/(vol*math.sqrt(period))\n",
    "h2=(math.log(H**2/(spot*strike))+(mu-0.5*vol**2)*period)/(vol*math.sqrt(period))\n",
    "\n",
    "price=spot*norm.cdf(d1)-strike*math.exp(-mu*period)*norm.cdf(d2)-(H/spot)**(1+2*mu*vol**(-2))*spot*norm.cdf(h1)+ \\\n",
    "(H/spot)**(-1+2*mu*vol**(-2))*strike*math.exp(-mu*period)*norm.cdf(h2)\n",
    "\n",
    "print(price)\n",
    "\n",
    "\n"
   ]
  },
  {
   "cell_type": "markdown",
   "metadata": {},
   "source": [
    "<blockquote style=\"font-family:Calibri; font-size:16px;\"> Our prices match. A good benchmark. Unfortunately many SDEs under different models, and for different exotic options do not easily solve. In the next section we investigate options that can only be priced via numerical methods.  </blockquote>"
   ]
  },
  {
   "cell_type": "code",
   "execution_count": null,
   "metadata": {},
   "outputs": [],
   "source": []
  }
 ],
 "metadata": {
  "kernelspec": {
   "display_name": "Python 3",
   "language": "python",
   "name": "python3"
  },
  "language_info": {
   "codemirror_mode": {
    "name": "ipython",
    "version": 3
   },
   "file_extension": ".py",
   "mimetype": "text/x-python",
   "name": "python",
   "nbconvert_exporter": "python",
   "pygments_lexer": "ipython3",
   "version": "3.7.7"
  },
  "varInspector": {
   "cols": {
    "lenName": 16,
    "lenType": 16,
    "lenVar": 40
   },
   "kernels_config": {
    "python": {
     "delete_cmd_postfix": "",
     "delete_cmd_prefix": "del ",
     "library": "var_list.py",
     "varRefreshCmd": "print(var_dic_list())"
    },
    "r": {
     "delete_cmd_postfix": ") ",
     "delete_cmd_prefix": "rm(",
     "library": "var_list.r",
     "varRefreshCmd": "cat(var_dic_list()) "
    }
   },
   "types_to_exclude": [
    "module",
    "function",
    "builtin_function_or_method",
    "instance",
    "_Feature"
   ],
   "window_display": false
  }
 },
 "nbformat": 4,
 "nbformat_minor": 4
}
