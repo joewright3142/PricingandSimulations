{
 "cells": [
  {
   "cell_type": "markdown",
   "metadata": {},
   "source": [
    "<h1 style=\"color:green;\">Design patterns for option pricing via simulation<h1>\n",
    "    <blockquote style=\"font-family:Calibri; font-size:16px;\">This is a personal project of mine, investigating how to price different financial options through simulation and, where possible comparing these values to analytic prices</blockquote>"
   ]
  },
  {
   "cell_type": "markdown",
   "metadata": {},
   "source": [
    "<h2 style=\"color:green;\">Part 0: Setup-<h2>\n",
    "<blockquote style=\"font-family:Calibri; font-size:16px;\">Import libraries, establish and justify RNG choice, numerous random draws from a Gaussian distribution will form the cornerstone of our method, we find random.gauss to produce results more quickly </blockquote>"
   ]
  },
  {
   "cell_type": "code",
   "execution_count": 5,
   "metadata": {
    "scrolled": true
   },
   "outputs": [
    {
     "name": "stdout",
     "output_type": "stream",
     "text": [
      "\n",
      "Running time random = 588 ms\n",
      "Running time np.normal = 2268 ms\n"
     ]
    }
   ],
   "source": [
    "import time\n",
    "import random\n",
    "import numpy\n",
    "import math\n",
    "\n",
    "\n",
    "tic=time.perf_counter()\n",
    "for i in range(10**6):\n",
    "    random.gauss(0,1)\n",
    "toc=time.perf_counter()\n",
    "\n",
    "tic2=time.perf_counter()\n",
    "for i in range(10**6):\n",
    "    numpy.random.normal()\n",
    "toc2=time.perf_counter()\n",
    "print(\"\\nRunning time random = {} ms\".format(int((toc-tic)*10**3))+\n",
    "      \"\\nRunning time np.normal = {} ms\".format(int((toc2-tic2)*10**3)))\n",
    "#we use random.gauss due to it's ability to generate normal draws more quickly!\n",
    "\n"
   ]
  },
  {
   "cell_type": "markdown",
   "metadata": {},
   "source": [
    "<blockquote style=\"font-family:Calibri; font-size:16px;\"> </blockquote>"
   ]
  },
  {
   "cell_type": "code",
   "execution_count": null,
   "metadata": {},
   "outputs": [],
   "source": [
    "\n",
    "vol=0.1\n",
    "t=1/365\n",
    "sqrtt=math.sqrt(t)\n",
    "mu=0.05 #drift\n",
    "Spot=100\n",
    "Strike=105\n",
    "\n",
    "#dS=mu*S*dt+sigma*dWt\n",
    "totsum=0\n",
    "sims=10000\n",
    "\n",
    "for j in range(sims):\n",
    "    Spot=100\n",
    "    for i in range(365):\n",
    "        N01=random.gauss(0,1)\n",
    "        Spot=Spot*(1+(mu*t+vol*sqrtt*N01))  #in this discrete approximate model we can go negative!!\n",
    "    totsum+=Spot\n",
    "\n",
    "mean=totsum/sims\n",
    "#The mean represents the expected value of the asset or option\n",
    "#- in this exercise we will be analysing various payoffs via MC to their BS price\n",
    "#Section one looks at pricing\n",
    "#Fwd Contract\n",
    "#Call\n",
    "#barrier\n",
    "#straddle\n",
    "#Asian option\n",
    "#CDO\n",
    "#CDO Sq\n",
    "\n",
    "#####Section I###\n",
    "##Forward contract.\n",
    "\n",
    "\n",
    "\n",
    "\n",
    "##Section two will look at pricing under different assumptions, specifically stochastic volatility\n",
    "\n",
    "##Section three will pull data via apis and compare with pricing and observed volatilities"
   ]
  }
 ],
 "metadata": {
  "kernelspec": {
   "display_name": "Python 3",
   "language": "python",
   "name": "python3"
  },
  "language_info": {
   "codemirror_mode": {
    "name": "ipython",
    "version": 3
   },
   "file_extension": ".py",
   "mimetype": "text/x-python",
   "name": "python",
   "nbconvert_exporter": "python",
   "pygments_lexer": "ipython3",
   "version": "3.7.7"
  },
  "varInspector": {
   "cols": {
    "lenName": 16,
    "lenType": 16,
    "lenVar": 40
   },
   "kernels_config": {
    "python": {
     "delete_cmd_postfix": "",
     "delete_cmd_prefix": "del ",
     "library": "var_list.py",
     "varRefreshCmd": "print(var_dic_list())"
    },
    "r": {
     "delete_cmd_postfix": ") ",
     "delete_cmd_prefix": "rm(",
     "library": "var_list.r",
     "varRefreshCmd": "cat(var_dic_list()) "
    }
   },
   "types_to_exclude": [
    "module",
    "function",
    "builtin_function_or_method",
    "instance",
    "_Feature"
   ],
   "window_display": false
  }
 },
 "nbformat": 4,
 "nbformat_minor": 4
}
