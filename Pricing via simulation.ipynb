{
 "cells": [
  {
   "cell_type": "markdown",
   "metadata": {},
   "source": [
    "<h1 style=\"color:green;\">Design patterns for option pricing via simulation<h1>\n",
    "    <blockquote style=\"font-family:Calibri; font-size:16px;\">This is a personal project of mine, investigating how to price different financial options through simulation and, where possible comparing these values to analytic prices</blockquote>"
   ]
  },
  {
   "cell_type": "markdown",
   "metadata": {},
   "source": [
    "<h2 style=\"color:green;\">Part 0: Setup-<h2>\n",
    "<blockquote style=\"font-family:Calibri; font-size:16px;\">Import libraries, establish and justify RNG choice, numerous random draws from a Gaussian distribution will form the cornerstone of our method, we find random.gauss to produce results more quickly </blockquote>"
   ]
  },
  {
   "cell_type": "code",
   "execution_count": 15,
   "metadata": {
    "scrolled": true
   },
   "outputs": [
    {
     "name": "stdout",
     "output_type": "stream",
     "text": [
      "\n",
      "Running time random = 630 ms\n",
      "Running time np.normal = 2249 ms\n"
     ]
    }
   ],
   "source": [
    "import time \n",
    "import random \n",
    "import numpy\n",
    "import math\n",
    "import scipy.integrate as integrate #integration kit\n",
    "import statistics\n",
    "\n",
    "tic=time.perf_counter()\n",
    "for i in range(10**6):\n",
    "    random.gauss(0,1)\n",
    "toc=time.perf_counter()\n",
    "\n",
    "tic2=time.perf_counter()\n",
    "for i in range(10**6):\n",
    "    numpy.random.normal()\n",
    "toc2=time.perf_counter()\n",
    "print(\"\\nRunning time random = {} ms\".format(int((toc-tic)*10**3))+\n",
    "      \"\\nRunning time np.normal = {} ms\".format(int((toc2-tic2)*10**3)))\n",
    "#we use random.gauss due to it's ability to generate normal draws more quickly!\n",
    "\n"
   ]
  },
  {
   "cell_type": "markdown",
   "metadata": {},
   "source": [
    "<h2 style=\"color:green;\">Part 1: Pricing using log normal volatility<h2>\n",
    "<blockquote style=\"font-family:Calibri; font-size:16px;\">Import libraries, establish and justify RNG choice, numerous random draws from a Gaussian distribution will form the cornerstone of our method, we find random.gauss to produce results more quickly </blockquote>"
   ]
  },
  {
   "cell_type": "code",
   "execution_count": 35,
   "metadata": {},
   "outputs": [
    {
     "name": "stdout",
     "output_type": "stream",
     "text": [
      "\n",
      " Mean =105.03226577947932\n",
      "\n",
      " Analytic integration Expected value =105.12710963760242\n",
      "\n",
      " Numerical integration EV & error bounds =(105.12710963760242, 1.0679979662274464e-07)\n"
     ]
    }
   ],
   "source": [
    "vol=0.1\n",
    "t=1/365\n",
    "sqrtt=math.sqrt(t)\n",
    "mu=0.05 #drift\n",
    "S0=100 #Initial spot price\n",
    "Strike=105\n",
    "Steps=365\n",
    "\n",
    "#dS=mu*S*dt+sigma*dWt\n",
    "totsum=0\n",
    "sims=10000\n",
    "\n",
    "for j in range(sims):\n",
    "    Spot=S0\n",
    "    for i in range(Steps):\n",
    "        N01=random.gauss(0,1)\n",
    "        Spot=Spot*(1+(mu*t+vol*sqrtt*N01))  #in this discrete approximate model we can go negative!!\n",
    "    totsum+=Spot #memoryless- does not require storing an array\n",
    "\n",
    "mean=totsum/sims \n",
    "\n",
    "#Analytical mean = S*exp(mu*t)\n",
    "#Derived from integral of S0*e^(mu*t-0.5*sigma^2+sigma*x)*e^-(x^2/2)\n",
    "print(\"\\n Mean =\" +format(mean))\n",
    "print(\"\\n Analytic integration Expected value =\" + format(S0*math.exp(mu*t*Steps)))\n",
    "\n",
    "#Numerical integration method\n",
    "result = integrate.quad(lambda x: (1/math.sqrt(2*math.pi))*S0*math.exp(mu*t*Steps-0.5*vol**2+vol*x)*math.exp(-(x**2)/2), -10, 10) #+/-10 s.d.s sufficiently converged for double floating point precision\n",
    "print(\"\\n Numerical integration EV & error bounds =\" + format(result))"
   ]
  },
  {
   "cell_type": "markdown",
   "metadata": {},
   "source": [
    "<blockquote style=\"font-family:Calibri; font-size:16px;\"> Here we stochastically simulate 10,000 runs of a stock with spot 100 and annualised drift 0.05. Via analytical integration, numerical integration and Monte Carlo simulation we find the final prices agree. This type of stochastic simulation will be key to our first section (later we will investigate other volatility simulations (e.g. time and price dependent) </blockquote>"
   ]
  },
  {
   "cell_type": "markdown",
   "metadata": {},
   "source": [
    "<blockquote style=\"font-family:Calibri; font-size:16px;\"> We now begin section one in earnest, starting with attempting to price a forward contact, progressively moving to more complex derivatives. Note: We will not always have tidy integration to help us!</blockquote>"
   ]
  },
  {
   "cell_type": "code",
   "execution_count": 16,
   "metadata": {},
   "outputs": [
    {
     "name": "stdout",
     "output_type": "stream",
     "text": [
      "0.13738789946119548\n"
     ]
    }
   ],
   "source": [
    "#A forward contract is the right and the obligation to buy a stock at time t for price K.\n",
    "#The payoff is S-K.\n",
    "#Using risk neutral pricing E(C_T/Z_T)=C_0/Z_0 \n",
    "#Our only unknown in this equaton is C_0.\n",
    "#C_T=S-K\n",
    "#Z_0=e^-rT\n",
    "#Z_T=1\n",
    "#C_0=(e^-rT)*(S-K)\n",
    "#S_0\n",
    "arr=[]\n",
    "S0=100\n",
    "sims=10000\n",
    "vol=0.1\n",
    "Steps=365\n",
    "t=1/365\n",
    "mu=0.05\n",
    "strike=105\n",
    "sqrtt=math.sqrt(t)\n",
    "\n",
    "for j in range(sims):\n",
    "    Spot=S0\n",
    "    for i in range(Steps):\n",
    "        N01=random.gauss(0,1)\n",
    "        Spot=Spot*(1+(mu*t+vol*sqrtt*N01))  #in this discrete approximate model we can go negative!!\n",
    "    arr.append(Spot-strike) \n",
    "\n",
    "\n",
    "\n",
    "print(statistics.mean(arr))\n",
    "\n",
    "\n"
   ]
  },
  {
   "cell_type": "code",
   "execution_count": 36,
   "metadata": {},
   "outputs": [],
   "source": [
    "#Section one looks at pricing\n",
    "#Fwd Contract\n",
    "#Call\n",
    "#barrier\n",
    "#straddle\n",
    "#Asian option\n",
    "#CDO\n",
    "#CDO Sq\n",
    "\n",
    "#####Section I###\n",
    "##Forward contract.\n",
    "\n",
    "\n",
    "\n",
    "\n",
    "##Section two will look at pricing under different assumptions, specifically stochastic volatility\n",
    "\n",
    "##Section three will pull data via apis and compare with pricing and observed volatilities"
   ]
  },
  {
   "cell_type": "markdown",
   "metadata": {},
   "source": [
    "\n",
    "Euler's identity: $ e^{i \\pi} + 1 = 0 $\n",
    "\n",
    "\n",
    "Euler's identity: $$ e^{i \\pi} + 1 = 0 $$"
   ]
  },
  {
   "cell_type": "code",
   "execution_count": null,
   "metadata": {},
   "outputs": [],
   "source": []
  }
 ],
 "metadata": {
  "kernelspec": {
   "display_name": "Python 3",
   "language": "python",
   "name": "python3"
  },
  "language_info": {
   "codemirror_mode": {
    "name": "ipython",
    "version": 3
   },
   "file_extension": ".py",
   "mimetype": "text/x-python",
   "name": "python",
   "nbconvert_exporter": "python",
   "pygments_lexer": "ipython3",
   "version": "3.7.7"
  },
  "varInspector": {
   "cols": {
    "lenName": 16,
    "lenType": 16,
    "lenVar": 40
   },
   "kernels_config": {
    "python": {
     "delete_cmd_postfix": "",
     "delete_cmd_prefix": "del ",
     "library": "var_list.py",
     "varRefreshCmd": "print(var_dic_list())"
    },
    "r": {
     "delete_cmd_postfix": ") ",
     "delete_cmd_prefix": "rm(",
     "library": "var_list.r",
     "varRefreshCmd": "cat(var_dic_list()) "
    }
   },
   "types_to_exclude": [
    "module",
    "function",
    "builtin_function_or_method",
    "instance",
    "_Feature"
   ],
   "window_display": false
  }
 },
 "nbformat": 4,
 "nbformat_minor": 4
}
